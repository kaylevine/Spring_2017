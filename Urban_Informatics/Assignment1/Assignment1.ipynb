{
 "cells": [
  {
   "cell_type": "markdown",
   "metadata": {},
   "source": [
    "# Urban Informatics for Smart, Sustainable Cities\n",
    "## Assignment 1\n",
    "### By Kaylyn Levine (kal573)"
   ]
  },
  {
   "cell_type": "markdown",
   "metadata": {},
   "source": [
    "#### Import necessary packages"
   ]
  },
  {
   "cell_type": "code",
   "execution_count": 1,
   "metadata": {
    "collapsed": false
   },
   "outputs": [
    {
     "name": "stdout",
     "output_type": "stream",
     "text": [
      "Populating the interactive namespace from numpy and matplotlib\n"
     ]
    }
   ],
   "source": [
    "import pandas as pd\n",
    "import pylab as pl\n",
    "import numpy as np\n",
    "import geopandas as gp\n",
    "from geopandas import GeoDataFrame\n",
    "import statsmodels.api as sm\n",
    "import statsmodels.formula.api as smf\n",
    "import scipy.stats\n",
    "%pylab inline"
   ]
  },
  {
   "cell_type": "markdown",
   "metadata": {},
   "source": [
    "### Data Wrangling and Cleaning"
   ]
  },
  {
   "cell_type": "markdown",
   "metadata": {},
   "source": [
    "#### Import Census Data:\n",
    "Population, Housing Units, Area, and Density: 2000 - United States -- County by State; and for Puerto Rico\n",
    "\n",
    "Census 2000 Summary File 1 (SF 1) 100-Percent Data\n",
    "\n",
    "American Factfinder"
   ]
  },
  {
   "cell_type": "code",
   "execution_count": 2,
   "metadata": {
    "collapsed": false
   },
   "outputs": [
    {
     "data": {
      "text/html": [
       "<div>\n",
       "<table border=\"1\" class=\"dataframe\">\n",
       "  <thead>\n",
       "    <tr style=\"text-align: right;\">\n",
       "      <th></th>\n",
       "      <th>GEO.id</th>\n",
       "      <th>GEO.id2</th>\n",
       "      <th>GEO.display-label</th>\n",
       "      <th>GCT_STUB.target-geo-id</th>\n",
       "      <th>GCT_STUB.target-geo-id2</th>\n",
       "      <th>GCT_STUB.display-label</th>\n",
       "      <th>GCT_STUB.display-label.1</th>\n",
       "      <th>pop</th>\n",
       "      <th>den</th>\n",
       "    </tr>\n",
       "  </thead>\n",
       "  <tbody>\n",
       "    <tr>\n",
       "      <th>0</th>\n",
       "      <td>0100000US</td>\n",
       "      <td>NaN</td>\n",
       "      <td>United States</td>\n",
       "      <td>0500000US01001</td>\n",
       "      <td>1001</td>\n",
       "      <td>United States - Alabama - Autauga County</td>\n",
       "      <td>Autauga County</td>\n",
       "      <td>43671</td>\n",
       "      <td>73.3</td>\n",
       "    </tr>\n",
       "    <tr>\n",
       "      <th>1</th>\n",
       "      <td>0100000US</td>\n",
       "      <td>NaN</td>\n",
       "      <td>United States</td>\n",
       "      <td>0500000US01003</td>\n",
       "      <td>1003</td>\n",
       "      <td>United States - Alabama - Baldwin County</td>\n",
       "      <td>Baldwin County</td>\n",
       "      <td>140415</td>\n",
       "      <td>88.0</td>\n",
       "    </tr>\n",
       "    <tr>\n",
       "      <th>2</th>\n",
       "      <td>0100000US</td>\n",
       "      <td>NaN</td>\n",
       "      <td>United States</td>\n",
       "      <td>0500000US01005</td>\n",
       "      <td>1005</td>\n",
       "      <td>United States - Alabama - Barbour County</td>\n",
       "      <td>Barbour County</td>\n",
       "      <td>29038</td>\n",
       "      <td>32.8</td>\n",
       "    </tr>\n",
       "    <tr>\n",
       "      <th>3</th>\n",
       "      <td>0100000US</td>\n",
       "      <td>NaN</td>\n",
       "      <td>United States</td>\n",
       "      <td>0500000US01007</td>\n",
       "      <td>1007</td>\n",
       "      <td>United States - Alabama - Bibb County</td>\n",
       "      <td>Bibb County</td>\n",
       "      <td>20826</td>\n",
       "      <td>33.4</td>\n",
       "    </tr>\n",
       "    <tr>\n",
       "      <th>4</th>\n",
       "      <td>0100000US</td>\n",
       "      <td>NaN</td>\n",
       "      <td>United States</td>\n",
       "      <td>0500000US01009</td>\n",
       "      <td>1009</td>\n",
       "      <td>United States - Alabama - Blount County</td>\n",
       "      <td>Blount County</td>\n",
       "      <td>51024</td>\n",
       "      <td>79.0</td>\n",
       "    </tr>\n",
       "  </tbody>\n",
       "</table>\n",
       "</div>"
      ],
      "text/plain": [
       "      GEO.id  GEO.id2 GEO.display-label GCT_STUB.target-geo-id  \\\n",
       "0  0100000US      NaN     United States         0500000US01001   \n",
       "1  0100000US      NaN     United States         0500000US01003   \n",
       "2  0100000US      NaN     United States         0500000US01005   \n",
       "3  0100000US      NaN     United States         0500000US01007   \n",
       "4  0100000US      NaN     United States         0500000US01009   \n",
       "\n",
       "   GCT_STUB.target-geo-id2                    GCT_STUB.display-label  \\\n",
       "0                     1001  United States - Alabama - Autauga County   \n",
       "1                     1003  United States - Alabama - Baldwin County   \n",
       "2                     1005  United States - Alabama - Barbour County   \n",
       "3                     1007     United States - Alabama - Bibb County   \n",
       "4                     1009   United States - Alabama - Blount County   \n",
       "\n",
       "  GCT_STUB.display-label.1     pop   den  \n",
       "0           Autauga County   43671  73.3  \n",
       "1           Baldwin County  140415  88.0  \n",
       "2           Barbour County   29038  32.8  \n",
       "3              Bibb County   20826  33.4  \n",
       "4            Blount County   51024  79.0  "
      ]
     },
     "execution_count": 2,
     "metadata": {},
     "output_type": "execute_result"
    }
   ],
   "source": [
    "data = pd.read_csv(\"/Users/kaylynlevine/Desktop/Assignment1/census_data_new.csv\")\n",
    "data.head()"
   ]
  },
  {
   "cell_type": "code",
   "execution_count": 3,
   "metadata": {
    "collapsed": false
   },
   "outputs": [
    {
     "data": {
      "text/plain": [
       "3141"
      ]
     },
     "execution_count": 3,
     "metadata": {},
     "output_type": "execute_result"
    }
   ],
   "source": [
    "len(data)"
   ]
  },
  {
   "cell_type": "markdown",
   "metadata": {},
   "source": [
    "#### Define city as county with population greater than 100,000 people as of 2000"
   ]
  },
  {
   "cell_type": "code",
   "execution_count": 4,
   "metadata": {
    "collapsed": false
   },
   "outputs": [
    {
     "data": {
      "text/html": [
       "<div>\n",
       "<table border=\"1\" class=\"dataframe\">\n",
       "  <thead>\n",
       "    <tr style=\"text-align: right;\">\n",
       "      <th></th>\n",
       "      <th>GEO.id</th>\n",
       "      <th>GEO.id2</th>\n",
       "      <th>GEO.display-label</th>\n",
       "      <th>GCT_STUB.target-geo-id</th>\n",
       "      <th>GCT_STUB.target-geo-id2</th>\n",
       "      <th>GCT_STUB.display-label</th>\n",
       "      <th>GCT_STUB.display-label.1</th>\n",
       "      <th>pop</th>\n",
       "      <th>den</th>\n",
       "    </tr>\n",
       "  </thead>\n",
       "  <tbody>\n",
       "    <tr>\n",
       "      <th>1</th>\n",
       "      <td>0100000US</td>\n",
       "      <td>NaN</td>\n",
       "      <td>United States</td>\n",
       "      <td>0500000US01003</td>\n",
       "      <td>1003</td>\n",
       "      <td>United States - Alabama - Baldwin County</td>\n",
       "      <td>Baldwin County</td>\n",
       "      <td>140415</td>\n",
       "      <td>88.0</td>\n",
       "    </tr>\n",
       "    <tr>\n",
       "      <th>7</th>\n",
       "      <td>0100000US</td>\n",
       "      <td>NaN</td>\n",
       "      <td>United States</td>\n",
       "      <td>0500000US01015</td>\n",
       "      <td>1015</td>\n",
       "      <td>United States - Alabama - Calhoun County</td>\n",
       "      <td>Calhoun County</td>\n",
       "      <td>112249</td>\n",
       "      <td>184.5</td>\n",
       "    </tr>\n",
       "    <tr>\n",
       "      <th>27</th>\n",
       "      <td>0100000US</td>\n",
       "      <td>NaN</td>\n",
       "      <td>United States</td>\n",
       "      <td>0500000US01055</td>\n",
       "      <td>1055</td>\n",
       "      <td>United States - Alabama - Etowah County</td>\n",
       "      <td>Etowah County</td>\n",
       "      <td>103459</td>\n",
       "      <td>193.4</td>\n",
       "    </tr>\n",
       "    <tr>\n",
       "      <th>36</th>\n",
       "      <td>0100000US</td>\n",
       "      <td>NaN</td>\n",
       "      <td>United States</td>\n",
       "      <td>0500000US01073</td>\n",
       "      <td>1073</td>\n",
       "      <td>United States - Alabama - Jefferson County</td>\n",
       "      <td>Jefferson County</td>\n",
       "      <td>662047</td>\n",
       "      <td>595.0</td>\n",
       "    </tr>\n",
       "    <tr>\n",
       "      <th>40</th>\n",
       "      <td>0100000US</td>\n",
       "      <td>NaN</td>\n",
       "      <td>United States</td>\n",
       "      <td>0500000US01081</td>\n",
       "      <td>1081</td>\n",
       "      <td>United States - Alabama - Lee County</td>\n",
       "      <td>Lee County</td>\n",
       "      <td>115092</td>\n",
       "      <td>189.1</td>\n",
       "    </tr>\n",
       "  </tbody>\n",
       "</table>\n",
       "</div>"
      ],
      "text/plain": [
       "       GEO.id  GEO.id2 GEO.display-label GCT_STUB.target-geo-id  \\\n",
       "1   0100000US      NaN     United States         0500000US01003   \n",
       "7   0100000US      NaN     United States         0500000US01015   \n",
       "27  0100000US      NaN     United States         0500000US01055   \n",
       "36  0100000US      NaN     United States         0500000US01073   \n",
       "40  0100000US      NaN     United States         0500000US01081   \n",
       "\n",
       "    GCT_STUB.target-geo-id2                      GCT_STUB.display-label  \\\n",
       "1                      1003    United States - Alabama - Baldwin County   \n",
       "7                      1015    United States - Alabama - Calhoun County   \n",
       "27                     1055     United States - Alabama - Etowah County   \n",
       "36                     1073  United States - Alabama - Jefferson County   \n",
       "40                     1081        United States - Alabama - Lee County   \n",
       "\n",
       "   GCT_STUB.display-label.1     pop    den  \n",
       "1            Baldwin County  140415   88.0  \n",
       "7            Calhoun County  112249  184.5  \n",
       "27            Etowah County  103459  193.4  \n",
       "36         Jefferson County  662047  595.0  \n",
       "40               Lee County  115092  189.1  "
      ]
     },
     "execution_count": 4,
     "metadata": {},
     "output_type": "execute_result"
    }
   ],
   "source": [
    "city = data[data[\"pop\"] > 100000]\n",
    "city.head()"
   ]
  },
  {
   "cell_type": "code",
   "execution_count": 5,
   "metadata": {
    "collapsed": false
   },
   "outputs": [
    {
     "data": {
      "text/plain": [
       "524"
      ]
     },
     "execution_count": 5,
     "metadata": {},
     "output_type": "execute_result"
    }
   ],
   "source": [
    "len(city)"
   ]
  },
  {
   "cell_type": "code",
   "execution_count": 6,
   "metadata": {
    "collapsed": false
   },
   "outputs": [
    {
     "data": {
      "text/html": [
       "<div>\n",
       "<table border=\"1\" class=\"dataframe\">\n",
       "  <thead>\n",
       "    <tr style=\"text-align: right;\">\n",
       "      <th></th>\n",
       "      <th>GEO.id</th>\n",
       "      <th>GEO.id2</th>\n",
       "      <th>GEO.display-label</th>\n",
       "      <th>GCT_STUB.target-geo-id</th>\n",
       "      <th>FIPS</th>\n",
       "      <th>GCT_STUB.display-label</th>\n",
       "      <th>County_Name</th>\n",
       "      <th>pop</th>\n",
       "      <th>den</th>\n",
       "    </tr>\n",
       "  </thead>\n",
       "  <tbody>\n",
       "    <tr>\n",
       "      <th>1</th>\n",
       "      <td>0100000US</td>\n",
       "      <td>NaN</td>\n",
       "      <td>United States</td>\n",
       "      <td>0500000US01003</td>\n",
       "      <td>1003</td>\n",
       "      <td>United States - Alabama - Baldwin County</td>\n",
       "      <td>Baldwin County</td>\n",
       "      <td>140415</td>\n",
       "      <td>88.0</td>\n",
       "    </tr>\n",
       "    <tr>\n",
       "      <th>7</th>\n",
       "      <td>0100000US</td>\n",
       "      <td>NaN</td>\n",
       "      <td>United States</td>\n",
       "      <td>0500000US01015</td>\n",
       "      <td>1015</td>\n",
       "      <td>United States - Alabama - Calhoun County</td>\n",
       "      <td>Calhoun County</td>\n",
       "      <td>112249</td>\n",
       "      <td>184.5</td>\n",
       "    </tr>\n",
       "    <tr>\n",
       "      <th>27</th>\n",
       "      <td>0100000US</td>\n",
       "      <td>NaN</td>\n",
       "      <td>United States</td>\n",
       "      <td>0500000US01055</td>\n",
       "      <td>1055</td>\n",
       "      <td>United States - Alabama - Etowah County</td>\n",
       "      <td>Etowah County</td>\n",
       "      <td>103459</td>\n",
       "      <td>193.4</td>\n",
       "    </tr>\n",
       "    <tr>\n",
       "      <th>36</th>\n",
       "      <td>0100000US</td>\n",
       "      <td>NaN</td>\n",
       "      <td>United States</td>\n",
       "      <td>0500000US01073</td>\n",
       "      <td>1073</td>\n",
       "      <td>United States - Alabama - Jefferson County</td>\n",
       "      <td>Jefferson County</td>\n",
       "      <td>662047</td>\n",
       "      <td>595.0</td>\n",
       "    </tr>\n",
       "    <tr>\n",
       "      <th>40</th>\n",
       "      <td>0100000US</td>\n",
       "      <td>NaN</td>\n",
       "      <td>United States</td>\n",
       "      <td>0500000US01081</td>\n",
       "      <td>1081</td>\n",
       "      <td>United States - Alabama - Lee County</td>\n",
       "      <td>Lee County</td>\n",
       "      <td>115092</td>\n",
       "      <td>189.1</td>\n",
       "    </tr>\n",
       "  </tbody>\n",
       "</table>\n",
       "</div>"
      ],
      "text/plain": [
       "       GEO.id  GEO.id2 GEO.display-label GCT_STUB.target-geo-id  FIPS  \\\n",
       "1   0100000US      NaN     United States         0500000US01003  1003   \n",
       "7   0100000US      NaN     United States         0500000US01015  1015   \n",
       "27  0100000US      NaN     United States         0500000US01055  1055   \n",
       "36  0100000US      NaN     United States         0500000US01073  1073   \n",
       "40  0100000US      NaN     United States         0500000US01081  1081   \n",
       "\n",
       "                        GCT_STUB.display-label       County_Name     pop  \\\n",
       "1     United States - Alabama - Baldwin County    Baldwin County  140415   \n",
       "7     United States - Alabama - Calhoun County    Calhoun County  112249   \n",
       "27     United States - Alabama - Etowah County     Etowah County  103459   \n",
       "36  United States - Alabama - Jefferson County  Jefferson County  662047   \n",
       "40        United States - Alabama - Lee County        Lee County  115092   \n",
       "\n",
       "      den  \n",
       "1    88.0  \n",
       "7   184.5  \n",
       "27  193.4  \n",
       "36  595.0  \n",
       "40  189.1  "
      ]
     },
     "execution_count": 6,
     "metadata": {},
     "output_type": "execute_result"
    }
   ],
   "source": [
    "city=city.rename(columns = {'GCT_STUB.target-geo-id2':'FIPS'})\n",
    "city=city.rename(columns = {'GCT_STUB.display-label.1':'County_Name'})\n",
    "city.head()"
   ]
  },
  {
   "cell_type": "markdown",
   "metadata": {},
   "source": [
    "#### Import Carbon Emissions Data:\n",
    "Retrieved from http://vulcan.project.asu.edu/\n",
    "\n",
    "Total sector annual data from 2002"
   ]
  },
  {
   "cell_type": "code",
   "execution_count": 7,
   "metadata": {
    "collapsed": false
   },
   "outputs": [
    {
     "data": {
      "text/html": [
       "<div>\n",
       "<table border=\"1\" class=\"dataframe\">\n",
       "  <thead>\n",
       "    <tr style=\"text-align: right;\">\n",
       "      <th></th>\n",
       "      <th>County</th>\n",
       "      <th>FIPS</th>\n",
       "      <th>Total</th>\n",
       "      <th>Commercial</th>\n",
       "      <th>Industrial</th>\n",
       "      <th>Residential</th>\n",
       "      <th>Electricity Prod</th>\n",
       "      <th>Onroad</th>\n",
       "      <th>Cement</th>\n",
       "      <th>Aircraft</th>\n",
       "      <th>Airborne</th>\n",
       "      <th>Nonroad</th>\n",
       "    </tr>\n",
       "  </thead>\n",
       "  <tbody>\n",
       "    <tr>\n",
       "      <th>0</th>\n",
       "      <td>Autauga</td>\n",
       "      <td>1001</td>\n",
       "      <td>0.256167</td>\n",
       "      <td>0.003001</td>\n",
       "      <td>0.004434</td>\n",
       "      <td>0.010148</td>\n",
       "      <td>0.155508</td>\n",
       "      <td>0.074761</td>\n",
       "      <td>0.0</td>\n",
       "      <td>0.000976</td>\n",
       "      <td>0.002453</td>\n",
       "      <td>0.004886</td>\n",
       "    </tr>\n",
       "    <tr>\n",
       "      <th>1</th>\n",
       "      <td>Baldwin</td>\n",
       "      <td>1003</td>\n",
       "      <td>0.450031</td>\n",
       "      <td>0.015348</td>\n",
       "      <td>0.011884</td>\n",
       "      <td>0.031948</td>\n",
       "      <td>0.000000</td>\n",
       "      <td>0.278709</td>\n",
       "      <td>0.0</td>\n",
       "      <td>0.017842</td>\n",
       "      <td>0.044849</td>\n",
       "      <td>0.049451</td>\n",
       "    </tr>\n",
       "    <tr>\n",
       "      <th>2</th>\n",
       "      <td>Barbour</td>\n",
       "      <td>1005</td>\n",
       "      <td>0.099370</td>\n",
       "      <td>0.001905</td>\n",
       "      <td>0.008555</td>\n",
       "      <td>0.006284</td>\n",
       "      <td>0.000000</td>\n",
       "      <td>0.057143</td>\n",
       "      <td>0.0</td>\n",
       "      <td>0.005469</td>\n",
       "      <td>0.013747</td>\n",
       "      <td>0.006268</td>\n",
       "    </tr>\n",
       "    <tr>\n",
       "      <th>3</th>\n",
       "      <td>Bibb</td>\n",
       "      <td>1007</td>\n",
       "      <td>0.045945</td>\n",
       "      <td>0.000769</td>\n",
       "      <td>0.001622</td>\n",
       "      <td>0.004614</td>\n",
       "      <td>0.000000</td>\n",
       "      <td>0.035746</td>\n",
       "      <td>0.0</td>\n",
       "      <td>0.000380</td>\n",
       "      <td>0.000956</td>\n",
       "      <td>0.001858</td>\n",
       "    </tr>\n",
       "    <tr>\n",
       "      <th>4</th>\n",
       "      <td>Blount</td>\n",
       "      <td>1009</td>\n",
       "      <td>0.114776</td>\n",
       "      <td>0.001951</td>\n",
       "      <td>0.009059</td>\n",
       "      <td>0.011162</td>\n",
       "      <td>0.000000</td>\n",
       "      <td>0.087401</td>\n",
       "      <td>0.0</td>\n",
       "      <td>0.000298</td>\n",
       "      <td>0.000749</td>\n",
       "      <td>0.004155</td>\n",
       "    </tr>\n",
       "  </tbody>\n",
       "</table>\n",
       "</div>"
      ],
      "text/plain": [
       "    County   FIPS     Total  Commercial  Industrial  Residential  \\\n",
       "0  Autauga   1001  0.256167    0.003001    0.004434     0.010148   \n",
       "1  Baldwin   1003  0.450031    0.015348    0.011884     0.031948   \n",
       "2  Barbour   1005  0.099370    0.001905    0.008555     0.006284   \n",
       "3     Bibb   1007  0.045945    0.000769    0.001622     0.004614   \n",
       "4   Blount   1009  0.114776    0.001951    0.009059     0.011162   \n",
       "\n",
       "   Electricity Prod    Onroad  Cement  Aircraft  Airborne   Nonroad  \n",
       "0          0.155508  0.074761     0.0  0.000976  0.002453  0.004886  \n",
       "1          0.000000  0.278709     0.0  0.017842  0.044849  0.049451  \n",
       "2          0.000000  0.057143     0.0  0.005469  0.013747  0.006268  \n",
       "3          0.000000  0.035746     0.0  0.000380  0.000956  0.001858  \n",
       "4          0.000000  0.087401     0.0  0.000298  0.000749  0.004155  "
      ]
     },
     "execution_count": 7,
     "metadata": {},
     "output_type": "execute_result"
    }
   ],
   "source": [
    "carbon = pd.read_csv(\"/Users/kaylynlevine/Desktop/Assignment1/carbon.csv\")\n",
    "carbon.head()"
   ]
  },
  {
   "cell_type": "code",
   "execution_count": 8,
   "metadata": {
    "collapsed": false
   },
   "outputs": [
    {
     "data": {
      "text/plain": [
       "Index([u' County', u' FIPS', u' Total', u'Commercial', u'Industrial',\n",
       "       u'Residential', u'Electricity Prod', u'Onroad', u'Cement', u'Aircraft',\n",
       "       u'Airborne', u'Nonroad'],\n",
       "      dtype='object')"
      ]
     },
     "execution_count": 8,
     "metadata": {},
     "output_type": "execute_result"
    }
   ],
   "source": [
    "carbon.columns"
   ]
  },
  {
   "cell_type": "code",
   "execution_count": 9,
   "metadata": {
    "collapsed": false
   },
   "outputs": [
    {
     "data": {
      "text/html": [
       "<div>\n",
       "<table border=\"1\" class=\"dataframe\">\n",
       "  <thead>\n",
       "    <tr style=\"text-align: right;\">\n",
       "      <th></th>\n",
       "      <th>County</th>\n",
       "      <th>FIPS</th>\n",
       "      <th>Total</th>\n",
       "      <th>Commercial</th>\n",
       "      <th>Industrial</th>\n",
       "      <th>Residential</th>\n",
       "      <th>Electricity Prod</th>\n",
       "      <th>Onroad</th>\n",
       "      <th>Cement</th>\n",
       "      <th>Aircraft</th>\n",
       "      <th>Airborne</th>\n",
       "      <th>Nonroad</th>\n",
       "    </tr>\n",
       "  </thead>\n",
       "  <tbody>\n",
       "    <tr>\n",
       "      <th>0</th>\n",
       "      <td>Autauga</td>\n",
       "      <td>1001</td>\n",
       "      <td>0.256167</td>\n",
       "      <td>0.003001</td>\n",
       "      <td>0.004434</td>\n",
       "      <td>0.010148</td>\n",
       "      <td>0.155508</td>\n",
       "      <td>0.074761</td>\n",
       "      <td>0.0</td>\n",
       "      <td>0.000976</td>\n",
       "      <td>0.002453</td>\n",
       "      <td>0.004886</td>\n",
       "    </tr>\n",
       "    <tr>\n",
       "      <th>1</th>\n",
       "      <td>Baldwin</td>\n",
       "      <td>1003</td>\n",
       "      <td>0.450031</td>\n",
       "      <td>0.015348</td>\n",
       "      <td>0.011884</td>\n",
       "      <td>0.031948</td>\n",
       "      <td>0.000000</td>\n",
       "      <td>0.278709</td>\n",
       "      <td>0.0</td>\n",
       "      <td>0.017842</td>\n",
       "      <td>0.044849</td>\n",
       "      <td>0.049451</td>\n",
       "    </tr>\n",
       "    <tr>\n",
       "      <th>2</th>\n",
       "      <td>Barbour</td>\n",
       "      <td>1005</td>\n",
       "      <td>0.099370</td>\n",
       "      <td>0.001905</td>\n",
       "      <td>0.008555</td>\n",
       "      <td>0.006284</td>\n",
       "      <td>0.000000</td>\n",
       "      <td>0.057143</td>\n",
       "      <td>0.0</td>\n",
       "      <td>0.005469</td>\n",
       "      <td>0.013747</td>\n",
       "      <td>0.006268</td>\n",
       "    </tr>\n",
       "    <tr>\n",
       "      <th>3</th>\n",
       "      <td>Bibb</td>\n",
       "      <td>1007</td>\n",
       "      <td>0.045945</td>\n",
       "      <td>0.000769</td>\n",
       "      <td>0.001622</td>\n",
       "      <td>0.004614</td>\n",
       "      <td>0.000000</td>\n",
       "      <td>0.035746</td>\n",
       "      <td>0.0</td>\n",
       "      <td>0.000380</td>\n",
       "      <td>0.000956</td>\n",
       "      <td>0.001858</td>\n",
       "    </tr>\n",
       "    <tr>\n",
       "      <th>4</th>\n",
       "      <td>Blount</td>\n",
       "      <td>1009</td>\n",
       "      <td>0.114776</td>\n",
       "      <td>0.001951</td>\n",
       "      <td>0.009059</td>\n",
       "      <td>0.011162</td>\n",
       "      <td>0.000000</td>\n",
       "      <td>0.087401</td>\n",
       "      <td>0.0</td>\n",
       "      <td>0.000298</td>\n",
       "      <td>0.000749</td>\n",
       "      <td>0.004155</td>\n",
       "    </tr>\n",
       "  </tbody>\n",
       "</table>\n",
       "</div>"
      ],
      "text/plain": [
       "    County  FIPS     Total  Commercial  Industrial  Residential  \\\n",
       "0  Autauga  1001  0.256167    0.003001    0.004434     0.010148   \n",
       "1  Baldwin  1003  0.450031    0.015348    0.011884     0.031948   \n",
       "2  Barbour  1005  0.099370    0.001905    0.008555     0.006284   \n",
       "3     Bibb  1007  0.045945    0.000769    0.001622     0.004614   \n",
       "4   Blount  1009  0.114776    0.001951    0.009059     0.011162   \n",
       "\n",
       "   Electricity Prod    Onroad  Cement  Aircraft  Airborne   Nonroad  \n",
       "0          0.155508  0.074761     0.0  0.000976  0.002453  0.004886  \n",
       "1          0.000000  0.278709     0.0  0.017842  0.044849  0.049451  \n",
       "2          0.000000  0.057143     0.0  0.005469  0.013747  0.006268  \n",
       "3          0.000000  0.035746     0.0  0.000380  0.000956  0.001858  \n",
       "4          0.000000  0.087401     0.0  0.000298  0.000749  0.004155  "
      ]
     },
     "execution_count": 9,
     "metadata": {},
     "output_type": "execute_result"
    }
   ],
   "source": [
    "carbon = carbon.rename(columns = {' FIPS':'FIPS'})\n",
    "carbon = carbon.rename(columns = {' Total':'Total'})\n",
    "carbon = carbon.rename(columns = {' County':'County'})\n",
    "carbon.head()"
   ]
  },
  {
   "cell_type": "markdown",
   "metadata": {},
   "source": [
    "#### Merge cities (counties) with carbon emissions data for anlaysis"
   ]
  },
  {
   "cell_type": "code",
   "execution_count": 10,
   "metadata": {
    "collapsed": false
   },
   "outputs": [
    {
     "data": {
      "text/html": [
       "<div>\n",
       "<table border=\"1\" class=\"dataframe\">\n",
       "  <thead>\n",
       "    <tr style=\"text-align: right;\">\n",
       "      <th></th>\n",
       "      <th>County</th>\n",
       "      <th>FIPS</th>\n",
       "      <th>Total</th>\n",
       "      <th>Commercial</th>\n",
       "      <th>Industrial</th>\n",
       "      <th>Residential</th>\n",
       "      <th>Electricity Prod</th>\n",
       "      <th>Onroad</th>\n",
       "      <th>Cement</th>\n",
       "      <th>Aircraft</th>\n",
       "      <th>Airborne</th>\n",
       "      <th>Nonroad</th>\n",
       "      <th>GEO.id</th>\n",
       "      <th>GEO.id2</th>\n",
       "      <th>GEO.display-label</th>\n",
       "      <th>GCT_STUB.target-geo-id</th>\n",
       "      <th>GCT_STUB.display-label</th>\n",
       "      <th>County_Name</th>\n",
       "      <th>pop</th>\n",
       "      <th>den</th>\n",
       "    </tr>\n",
       "  </thead>\n",
       "  <tbody>\n",
       "    <tr>\n",
       "      <th>0</th>\n",
       "      <td>Baldwin</td>\n",
       "      <td>1003</td>\n",
       "      <td>0.450031</td>\n",
       "      <td>0.015348</td>\n",
       "      <td>0.011884</td>\n",
       "      <td>0.031948</td>\n",
       "      <td>0.000000</td>\n",
       "      <td>0.278709</td>\n",
       "      <td>0.000000</td>\n",
       "      <td>0.017842</td>\n",
       "      <td>0.044849</td>\n",
       "      <td>0.049451</td>\n",
       "      <td>0100000US</td>\n",
       "      <td>NaN</td>\n",
       "      <td>United States</td>\n",
       "      <td>0500000US01003</td>\n",
       "      <td>United States - Alabama - Baldwin County</td>\n",
       "      <td>Baldwin County</td>\n",
       "      <td>140415</td>\n",
       "      <td>88.0</td>\n",
       "    </tr>\n",
       "    <tr>\n",
       "      <th>1</th>\n",
       "      <td>Calhoun</td>\n",
       "      <td>1015</td>\n",
       "      <td>0.466963</td>\n",
       "      <td>0.012577</td>\n",
       "      <td>0.046281</td>\n",
       "      <td>0.027428</td>\n",
       "      <td>0.000000</td>\n",
       "      <td>0.347099</td>\n",
       "      <td>0.000000</td>\n",
       "      <td>0.005050</td>\n",
       "      <td>0.012695</td>\n",
       "      <td>0.015834</td>\n",
       "      <td>0100000US</td>\n",
       "      <td>NaN</td>\n",
       "      <td>United States</td>\n",
       "      <td>0500000US01015</td>\n",
       "      <td>United States - Alabama - Calhoun County</td>\n",
       "      <td>Calhoun County</td>\n",
       "      <td>112249</td>\n",
       "      <td>184.5</td>\n",
       "    </tr>\n",
       "    <tr>\n",
       "      <th>2</th>\n",
       "      <td>Etowah</td>\n",
       "      <td>1055</td>\n",
       "      <td>0.422520</td>\n",
       "      <td>0.010793</td>\n",
       "      <td>0.016143</td>\n",
       "      <td>0.024343</td>\n",
       "      <td>0.183977</td>\n",
       "      <td>0.168523</td>\n",
       "      <td>0.000000</td>\n",
       "      <td>0.002799</td>\n",
       "      <td>0.007036</td>\n",
       "      <td>0.008906</td>\n",
       "      <td>0100000US</td>\n",
       "      <td>NaN</td>\n",
       "      <td>United States</td>\n",
       "      <td>0500000US01055</td>\n",
       "      <td>United States - Alabama - Etowah County</td>\n",
       "      <td>Etowah County</td>\n",
       "      <td>103459</td>\n",
       "      <td>193.4</td>\n",
       "    </tr>\n",
       "    <tr>\n",
       "      <th>3</th>\n",
       "      <td>Jefferson</td>\n",
       "      <td>1073</td>\n",
       "      <td>7.520750</td>\n",
       "      <td>0.160658</td>\n",
       "      <td>0.921725</td>\n",
       "      <td>0.154653</td>\n",
       "      <td>4.864684</td>\n",
       "      <td>1.108491</td>\n",
       "      <td>0.083061</td>\n",
       "      <td>0.037975</td>\n",
       "      <td>0.095457</td>\n",
       "      <td>0.094045</td>\n",
       "      <td>0100000US</td>\n",
       "      <td>NaN</td>\n",
       "      <td>United States</td>\n",
       "      <td>0500000US01073</td>\n",
       "      <td>United States - Alabama - Jefferson County</td>\n",
       "      <td>Jefferson County</td>\n",
       "      <td>662047</td>\n",
       "      <td>595.0</td>\n",
       "    </tr>\n",
       "    <tr>\n",
       "      <th>4</th>\n",
       "      <td>Lee</td>\n",
       "      <td>1081</td>\n",
       "      <td>0.416118</td>\n",
       "      <td>0.010120</td>\n",
       "      <td>0.026766</td>\n",
       "      <td>0.024028</td>\n",
       "      <td>0.160853</td>\n",
       "      <td>0.153387</td>\n",
       "      <td>0.000000</td>\n",
       "      <td>0.007098</td>\n",
       "      <td>0.017842</td>\n",
       "      <td>0.016024</td>\n",
       "      <td>0100000US</td>\n",
       "      <td>NaN</td>\n",
       "      <td>United States</td>\n",
       "      <td>0500000US01081</td>\n",
       "      <td>United States - Alabama - Lee County</td>\n",
       "      <td>Lee County</td>\n",
       "      <td>115092</td>\n",
       "      <td>189.1</td>\n",
       "    </tr>\n",
       "  </tbody>\n",
       "</table>\n",
       "</div>"
      ],
      "text/plain": [
       "      County  FIPS     Total  Commercial  Industrial  Residential  \\\n",
       "0    Baldwin  1003  0.450031    0.015348    0.011884     0.031948   \n",
       "1    Calhoun  1015  0.466963    0.012577    0.046281     0.027428   \n",
       "2     Etowah  1055  0.422520    0.010793    0.016143     0.024343   \n",
       "3  Jefferson  1073  7.520750    0.160658    0.921725     0.154653   \n",
       "4        Lee  1081  0.416118    0.010120    0.026766     0.024028   \n",
       "\n",
       "   Electricity Prod    Onroad    Cement  Aircraft  Airborne   Nonroad  \\\n",
       "0          0.000000  0.278709  0.000000  0.017842  0.044849  0.049451   \n",
       "1          0.000000  0.347099  0.000000  0.005050  0.012695  0.015834   \n",
       "2          0.183977  0.168523  0.000000  0.002799  0.007036  0.008906   \n",
       "3          4.864684  1.108491  0.083061  0.037975  0.095457  0.094045   \n",
       "4          0.160853  0.153387  0.000000  0.007098  0.017842  0.016024   \n",
       "\n",
       "      GEO.id  GEO.id2 GEO.display-label GCT_STUB.target-geo-id  \\\n",
       "0  0100000US      NaN     United States         0500000US01003   \n",
       "1  0100000US      NaN     United States         0500000US01015   \n",
       "2  0100000US      NaN     United States         0500000US01055   \n",
       "3  0100000US      NaN     United States         0500000US01073   \n",
       "4  0100000US      NaN     United States         0500000US01081   \n",
       "\n",
       "                       GCT_STUB.display-label       County_Name     pop    den  \n",
       "0    United States - Alabama - Baldwin County    Baldwin County  140415   88.0  \n",
       "1    United States - Alabama - Calhoun County    Calhoun County  112249  184.5  \n",
       "2     United States - Alabama - Etowah County     Etowah County  103459  193.4  \n",
       "3  United States - Alabama - Jefferson County  Jefferson County  662047  595.0  \n",
       "4        United States - Alabama - Lee County        Lee County  115092  189.1  "
      ]
     },
     "execution_count": 10,
     "metadata": {},
     "output_type": "execute_result"
    }
   ],
   "source": [
    "merge = pd.merge(carbon, city, how=\"inner\", on = \"FIPS\")\n",
    "merge.head()"
   ]
  },
  {
   "cell_type": "code",
   "execution_count": 11,
   "metadata": {
    "collapsed": false
   },
   "outputs": [
    {
     "data": {
      "text/html": [
       "<div>\n",
       "<table border=\"1\" class=\"dataframe\">\n",
       "  <thead>\n",
       "    <tr style=\"text-align: right;\">\n",
       "      <th></th>\n",
       "      <th>County</th>\n",
       "      <th>FIPS</th>\n",
       "      <th>Total</th>\n",
       "      <th>pop</th>\n",
       "      <th>den</th>\n",
       "    </tr>\n",
       "  </thead>\n",
       "  <tbody>\n",
       "    <tr>\n",
       "      <th>0</th>\n",
       "      <td>Baldwin</td>\n",
       "      <td>1003</td>\n",
       "      <td>0.450031</td>\n",
       "      <td>140415</td>\n",
       "      <td>88.0</td>\n",
       "    </tr>\n",
       "    <tr>\n",
       "      <th>1</th>\n",
       "      <td>Calhoun</td>\n",
       "      <td>1015</td>\n",
       "      <td>0.466963</td>\n",
       "      <td>112249</td>\n",
       "      <td>184.5</td>\n",
       "    </tr>\n",
       "    <tr>\n",
       "      <th>2</th>\n",
       "      <td>Etowah</td>\n",
       "      <td>1055</td>\n",
       "      <td>0.422520</td>\n",
       "      <td>103459</td>\n",
       "      <td>193.4</td>\n",
       "    </tr>\n",
       "    <tr>\n",
       "      <th>3</th>\n",
       "      <td>Jefferson</td>\n",
       "      <td>1073</td>\n",
       "      <td>7.520750</td>\n",
       "      <td>662047</td>\n",
       "      <td>595.0</td>\n",
       "    </tr>\n",
       "    <tr>\n",
       "      <th>4</th>\n",
       "      <td>Lee</td>\n",
       "      <td>1081</td>\n",
       "      <td>0.416118</td>\n",
       "      <td>115092</td>\n",
       "      <td>189.1</td>\n",
       "    </tr>\n",
       "  </tbody>\n",
       "</table>\n",
       "</div>"
      ],
      "text/plain": [
       "      County  FIPS     Total     pop    den\n",
       "0    Baldwin  1003  0.450031  140415   88.0\n",
       "1    Calhoun  1015  0.466963  112249  184.5\n",
       "2     Etowah  1055  0.422520  103459  193.4\n",
       "3  Jefferson  1073  7.520750  662047  595.0\n",
       "4        Lee  1081  0.416118  115092  189.1"
      ]
     },
     "execution_count": 11,
     "metadata": {},
     "output_type": "execute_result"
    }
   ],
   "source": [
    "# drop unneeded columns\n",
    "merge = merge.loc[:,[\"County\", \"FIPS\", \"Total\", \"pop\", \"den\"]]\n",
    "merge.head()"
   ]
  },
  {
   "cell_type": "markdown",
   "metadata": {},
   "source": [
    "#### Normalize carbon emissions by population size and by population density"
   ]
  },
  {
   "cell_type": "code",
   "execution_count": 12,
   "metadata": {
    "collapsed": false
   },
   "outputs": [
    {
     "data": {
      "text/html": [
       "<div>\n",
       "<table border=\"1\" class=\"dataframe\">\n",
       "  <thead>\n",
       "    <tr style=\"text-align: right;\">\n",
       "      <th></th>\n",
       "      <th>County</th>\n",
       "      <th>FIPS</th>\n",
       "      <th>Total</th>\n",
       "      <th>pop</th>\n",
       "      <th>den</th>\n",
       "      <th>norm_pop</th>\n",
       "      <th>norm_den</th>\n",
       "    </tr>\n",
       "  </thead>\n",
       "  <tbody>\n",
       "    <tr>\n",
       "      <th>0</th>\n",
       "      <td>Baldwin</td>\n",
       "      <td>1003</td>\n",
       "      <td>0.450031</td>\n",
       "      <td>140415</td>\n",
       "      <td>88.0</td>\n",
       "      <td>3.205008</td>\n",
       "      <td>5113.991614</td>\n",
       "    </tr>\n",
       "    <tr>\n",
       "      <th>1</th>\n",
       "      <td>Calhoun</td>\n",
       "      <td>1015</td>\n",
       "      <td>0.466963</td>\n",
       "      <td>112249</td>\n",
       "      <td>184.5</td>\n",
       "      <td>4.160062</td>\n",
       "      <td>2530.963789</td>\n",
       "    </tr>\n",
       "    <tr>\n",
       "      <th>2</th>\n",
       "      <td>Etowah</td>\n",
       "      <td>1055</td>\n",
       "      <td>0.422520</td>\n",
       "      <td>103459</td>\n",
       "      <td>193.4</td>\n",
       "      <td>4.083936</td>\n",
       "      <td>2184.694514</td>\n",
       "    </tr>\n",
       "    <tr>\n",
       "      <th>3</th>\n",
       "      <td>Jefferson</td>\n",
       "      <td>1073</td>\n",
       "      <td>7.520750</td>\n",
       "      <td>662047</td>\n",
       "      <td>595.0</td>\n",
       "      <td>11.359844</td>\n",
       "      <td>12639.916674</td>\n",
       "    </tr>\n",
       "    <tr>\n",
       "      <th>4</th>\n",
       "      <td>Lee</td>\n",
       "      <td>1081</td>\n",
       "      <td>0.416118</td>\n",
       "      <td>115092</td>\n",
       "      <td>189.1</td>\n",
       "      <td>3.615523</td>\n",
       "      <td>2200.517118</td>\n",
       "    </tr>\n",
       "  </tbody>\n",
       "</table>\n",
       "</div>"
      ],
      "text/plain": [
       "      County  FIPS     Total     pop    den   norm_pop      norm_den\n",
       "0    Baldwin  1003  0.450031  140415   88.0   3.205008   5113.991614\n",
       "1    Calhoun  1015  0.466963  112249  184.5   4.160062   2530.963789\n",
       "2     Etowah  1055  0.422520  103459  193.4   4.083936   2184.694514\n",
       "3  Jefferson  1073  7.520750  662047  595.0  11.359844  12639.916674\n",
       "4        Lee  1081  0.416118  115092  189.1   3.615523   2200.517118"
      ]
     },
     "execution_count": 12,
     "metadata": {},
     "output_type": "execute_result"
    }
   ],
   "source": [
    "# first multiply total by 1000000 because recorded in millions of tons\n",
    "merge['norm_pop'] = merge[\"Total\"] * 1000000 / merge[\"pop\"]\n",
    "merge['norm_den'] = merge[\"Total\"] * 1000000 / merge[\"den\"]\n",
    "merge.head()"
   ]
  },
  {
   "cell_type": "markdown",
   "metadata": {},
   "source": [
    "### Data Analysis and Plots"
   ]
  },
  {
   "cell_type": "code",
   "execution_count": 13,
   "metadata": {
    "collapsed": false
   },
   "outputs": [
    {
     "data": {
      "text/plain": [
       "<matplotlib.text.Text at 0x11a09e1d0>"
      ]
     },
     "execution_count": 13,
     "metadata": {},
     "output_type": "execute_result"
    },
    {
     "data": {
      "image/png": "[encoded data removed]",
      "text/plain": [
       "<matplotlib.figure.Figure at 0x119b0ae50>"
      ]
     },
     "metadata": {},
     "output_type": "display_data"
    }
   ],
   "source": [
    "# exploratory scatterplots\n",
    "ax = merge.plot(x = 'pop', y = 'norm_pop', kind = 'scatter', lw=0, figsize = (15,8), color = '#00ffcc')\n",
    "ax.set_axis_bgcolor(\"#404040\")\n",
    "pl.ylabel('Normalized Carbon Emissions')\n",
    "pl.xlabel('Population')\n",
    "pl.grid(color = '#e6e6e6')\n",
    "pl.xlim(0, 5500000)\n",
    "pl.title(\"Relationship Between Urban Population and Normalized Carbon Emissions\", fontsize = 20)"
   ]
  },
  {
   "cell_type": "code",
   "execution_count": 14,
   "metadata": {
    "collapsed": false
   },
   "outputs": [],
   "source": [
    "# linear regression model using statsmodels\n",
    "X1 = sm.add_constant(merge['pop'])\n",
    "linmodel = sm.OLS(merge['norm_pop'], X1).fit()"
   ]
  },
  {
   "cell_type": "code",
   "execution_count": 15,
   "metadata": {
    "collapsed": false
   },
   "outputs": [
    {
     "data": {
      "text/plain": [
       "<matplotlib.text.Text at 0x11d17ebd0>"
      ]
     },
     "execution_count": 15,
     "metadata": {},
     "output_type": "execute_result"
    },
    {
     "data": {
      "image/png": "[encoded data removed]",
      "text/plain": [
       "<matplotlib.figure.Figure at 0x11ce91310>"
      ]
     },
     "metadata": {},
     "output_type": "display_data"
    }
   ],
   "source": [
    "ax = merge.plot(x = 'pop', y = 'norm_pop', kind = 'scatter', lw=0, figsize = (15,8), color = '#00ffcc')\n",
    "pl.plot(merge['pop'], linmodel.predict(), color = 'white', lw = 1)\n",
    "ax.set_axis_bgcolor(\"#404040\")\n",
    "pl.ylabel('Normalized Carbon Emissions')\n",
    "pl.xlabel('Population')\n",
    "pl.grid(color = '#e6e6e6')\n",
    "pl.xlim(0, 5500000)\n",
    "pl.title(\"Relationship Between Urban Population and Normalized Carbon Emissions\", fontsize = 20)"
   ]
  },
  {
   "cell_type": "code",
   "execution_count": 16,
   "metadata": {
    "collapsed": true
   },
   "outputs": [],
   "source": [
    "#fit second degree polynomial to data to highlight trend\n",
    "# first define line function\n",
    "def line(x, pars, err=False):\n",
    "    '''\n",
    "    Function that created a line given an independent variable and parameters \n",
    "    Arguments:\n",
    "    x: series of IV values\n",
    "    pars: series of 2 numbers : slope and intercept\n",
    "    Return:\n",
    "     array of DV values\n",
    "    '''\n",
    "    if err:\n",
    "        err = np.random.randn(len(x)) * err\n",
    "    else:\n",
    "        err = np.zeros_like(x)\n",
    "    return pars[0] * x + pars[1] + err, err"
   ]
  },
  {
   "cell_type": "code",
   "execution_count": 17,
   "metadata": {
    "collapsed": false
   },
   "outputs": [],
   "source": [
    "# set parameters to data\n",
    "x = merge['pop']\n",
    "y = merge['norm_pop']\n",
    "xyd = pd.DataFrame()\n",
    "xyd['X'] = x\n",
    "xyd['y'] = y\n",
    "xyd['X2'] = x*x\n",
    "\n",
    "cres = smf.ols(formula = 'y ~ X2 + X', data=xyd).fit()"
   ]
  },
  {
   "cell_type": "code",
   "execution_count": 18,
   "metadata": {
    "collapsed": true
   },
   "outputs": [],
   "source": [
    "# create data frame for this model\n",
    "xyd2 = pd.DataFrame()\n",
    "xyd2['X'] = np.linspace(x.min(), x.max(), 100)\n",
    "xyd2['X2'] = xyd2['X'] * xyd2['X']"
   ]
  },
  {
   "cell_type": "code",
   "execution_count": 19,
   "metadata": {
    "collapsed": false,
    "scrolled": false
   },
   "outputs": [
    {
     "data": {
      "text/plain": [
       "<matplotlib.text.Text at 0x11d587350>"
      ]
     },
     "execution_count": 19,
     "metadata": {},
     "output_type": "execute_result"
    },
    {
     "data": {
      "image/png": "[encoded data removed]",
      "text/plain": [
       "<matplotlib.figure.Figure at 0x103b84fd0>"
      ]
     },
     "metadata": {},
     "output_type": "display_data"
    }
   ],
   "source": [
    "ax = merge.plot(x = 'pop', y = 'norm_pop', kind = 'scatter', lw=0, figsize = (15,8), color = '#00ffcc')\n",
    "pl.scatter(merge['pop'], merge['norm_pop'], s=50, facecolors='#00ffcc')\n",
    "curve = pl.plot(xyd2['X'], cres.predict(xyd2), '--', color = 'white', lw = 3)\n",
    "ax.set_axis_bgcolor(\"#404040\")\n",
    "pl.ylabel('Normalized Carbon Emissions')\n",
    "pl.xlabel('Population')\n",
    "pl.grid(color = '#e6e6e6')\n",
    "pl.xlim(0, 3500000)\n",
    "pl.title(\"Relationship Between Urban Population Size and Normalized Carbon Emissions\", fontsize = 20)"
   ]
  },
  {
   "cell_type": "code",
   "execution_count": 20,
   "metadata": {
    "collapsed": false
   },
   "outputs": [
    {
     "data": {
      "text/plain": [
       "<matplotlib.text.Text at 0x11d967610>"
      ]
     },
     "execution_count": 20,
     "metadata": {},
     "output_type": "execute_result"
    },
    {
     "data": {
      "image/png": "[encoded data removed]",
      "text/plain": [
       "<matplotlib.figure.Figure at 0x11d14bdd0>"
      ]
     },
     "metadata": {},
     "output_type": "display_data"
    }
   ],
   "source": [
    "# exploratory scatterplots\n",
    "ax = merge.plot(x = 'den', y = 'norm_den', kind = 'scatter', lw=0, figsize = (15,8), color = '#00ffcc')\n",
    "ax.set_axis_bgcolor(\"#404040\")\n",
    "pl.ylabel('Normalized Carbon Emissions')\n",
    "pl.xlabel('Population Density')\n",
    "pl.grid(color = '#e6e6e6')\n",
    "pl.xlim(-1000, 36000)\n",
    "pl.ylim(-10000, 90000)\n",
    "pl.title(\"Relationship Between Urban Population Density and Normalized Carbon Emissions\", fontsize = 20)"
   ]
  },
  {
   "cell_type": "code",
   "execution_count": 21,
   "metadata": {
    "collapsed": true
   },
   "outputs": [],
   "source": [
    "# linear regression model using statsmodels\n",
    "X2 = sm.add_constant(merge['den'])\n",
    "linmodel2 = sm.OLS(merge['norm_den'], X2).fit()"
   ]
  },
  {
   "cell_type": "code",
   "execution_count": 22,
   "metadata": {
    "collapsed": false
   },
   "outputs": [
    {
     "data": {
      "text/plain": [
       "<matplotlib.text.Text at 0x11dd17910>"
      ]
     },
     "execution_count": 22,
     "metadata": {},
     "output_type": "execute_result"
    },
    {
     "data": {
      "image/png": "[encoded data removed]",
      "text/plain": [
       "<matplotlib.figure.Figure at 0x11d9b44d0>"
      ]
     },
     "metadata": {},
     "output_type": "display_data"
    }
   ],
   "source": [
    "ax = merge.plot(x = 'den', y = 'norm_den', kind = 'scatter', lw=0, figsize = (15,8), color = '#00ffcc')\n",
    "pl.plot(merge['den'], linmodel2.predict(), color = 'white', lw = 1)\n",
    "ax.set_axis_bgcolor(\"#404040\")\n",
    "pl.ylabel('Normalized Carbon Emissions')\n",
    "pl.xlabel('Population Density')\n",
    "pl.grid(color = '#e6e6e6')\n",
    "pl.xlim(-1000, 36000)\n",
    "pl.ylim(-10000, 90000)\n",
    "pl.title(\"Relationship Between Urban Population Density and Normalized Carbon Emissions\", fontsize = 20)"
   ]
  },
  {
   "cell_type": "code",
   "execution_count": 23,
   "metadata": {
    "collapsed": true
   },
   "outputs": [],
   "source": [
    "# set parameters to data\n",
    "x2 = merge['den']\n",
    "y2 = merge['norm_den']\n",
    "xyd2 = pd.DataFrame()\n",
    "xyd2['X2'] = x2\n",
    "xyd2['y2'] = y2\n",
    "xyd2['X22'] = x2*x2\n",
    "\n",
    "cres2 = smf.ols(formula = 'y2 ~ X22 + X2', data=xyd2).fit()"
   ]
  },
  {
   "cell_type": "code",
   "execution_count": 24,
   "metadata": {
    "collapsed": true
   },
   "outputs": [],
   "source": [
    "# create data frame for this model\n",
    "xyd22 = pd.DataFrame()\n",
    "xyd22['X2'] = np.linspace(x2.min(), x2.max(), 100)\n",
    "xyd22['X22'] = xyd22['X2'] * xyd22['X2']"
   ]
  },
  {
   "cell_type": "code",
   "execution_count": 25,
   "metadata": {
    "collapsed": false
   },
   "outputs": [
    {
     "data": {
      "text/plain": [
       "<matplotlib.text.Text at 0x11dde0850>"
      ]
     },
     "execution_count": 25,
     "metadata": {},
     "output_type": "execute_result"
    },
    {
     "data": {
      "image/png": "[encoded data removed]",
      "text/plain": [
       "<matplotlib.figure.Figure at 0x11d14bf90>"
      ]
     },
     "metadata": {},
     "output_type": "display_data"
    }
   ],
   "source": [
    "ax = merge.plot(x = 'den', y = 'norm_den', kind = 'scatter', lw=0, figsize = (15,8), color = '#00ffcc')\n",
    "pl.scatter(merge['den'], merge['norm_den'], s=50, facecolors='#00ffcc')\n",
    "curve = pl.plot(xyd22['X2'], cres2.predict(xyd22), '--', color = 'white', lw = 3)\n",
    "ax.set_axis_bgcolor(\"#404040\")\n",
    "pl.ylabel('Normalized Carbon Emissions')\n",
    "pl.xlabel('Population')\n",
    "pl.grid(color = '#e6e6e6')\n",
    "pl.xlim(-1000, 36000)\n",
    "pl.ylim(-10000, 90000)\n",
    "pl.title(\"Relationship Between Urban Population Density and Normalized Carbon Emissions\", fontsize = 20)"
   ]
  },
  {
   "cell_type": "markdown",
   "metadata": {},
   "source": [
    "#### Pearson Correlation:\n",
    "This test returned a correlation coefficient very close to zero for both sets of variables, implying that the two distributions are extremely dissimilar.\n",
    "\n",
    "The population size and the normalized carbon emissions are not correlated.\n",
    "\n",
    "The population density and the normalized carbon emissions are not correlated."
   ]
  },
  {
   "cell_type": "code",
   "execution_count": 26,
   "metadata": {
    "collapsed": false
   },
   "outputs": [
    {
     "name": "stdout",
     "output_type": "stream",
     "text": [
      "(-0.12651480782421229, 0.0037220627411162846)\n"
     ]
    }
   ],
   "source": [
    "# pearson correlation (bivariate correlation analysis) for population size\n",
    "pearson = scipy.stats.pearsonr(merge['pop'], merge['norm_pop'])\n",
    "print(pearson)"
   ]
  },
  {
   "cell_type": "code",
   "execution_count": 27,
   "metadata": {
    "collapsed": false
   },
   "outputs": [
    {
     "name": "stdout",
     "output_type": "stream",
     "text": [
      "(-0.038928461930623694, 0.37382990747319911)\n"
     ]
    }
   ],
   "source": [
    "# pearson correlation (bivariate correlation analysis) for population density\n",
    "pearson = scipy.stats.pearsonr(merge['den'], merge['norm_den'])\n",
    "print(pearson)"
   ]
  },
  {
   "cell_type": "code",
   "execution_count": 28,
   "metadata": {
    "collapsed": false
   },
   "outputs": [
    {
     "name": "stderr",
     "output_type": "stream",
     "text": [
      "/anaconda/lib/python2.7/site-packages/ipykernel/__main__.py:1: FutureWarning: sort(columns=....) is deprecated, use sort_values(by=.....)\n",
      "  if __name__ == '__main__':\n"
     ]
    }
   ],
   "source": [
    "rank_pop = merge.sort('norm_pop', ascending=False)"
   ]
  },
  {
   "cell_type": "code",
   "execution_count": 29,
   "metadata": {
    "collapsed": false
   },
   "outputs": [
    {
     "data": {
      "text/html": [
       "<div>\n",
       "<table border=\"1\" class=\"dataframe\">\n",
       "  <thead>\n",
       "    <tr style=\"text-align: right;\">\n",
       "      <th></th>\n",
       "      <th>County</th>\n",
       "      <th>FIPS</th>\n",
       "      <th>Total</th>\n",
       "      <th>pop</th>\n",
       "      <th>den</th>\n",
       "      <th>norm_pop</th>\n",
       "      <th>norm_den</th>\n",
       "    </tr>\n",
       "  </thead>\n",
       "  <tbody>\n",
       "    <tr>\n",
       "      <th>294</th>\n",
       "      <td>San Juan</td>\n",
       "      <td>35045</td>\n",
       "      <td>8.453822</td>\n",
       "      <td>113801</td>\n",
       "      <td>20.6</td>\n",
       "      <td>74.286004</td>\n",
       "      <td>410379.686845</td>\n",
       "    </tr>\n",
       "    <tr>\n",
       "      <th>13</th>\n",
       "      <td>Coconino</td>\n",
       "      <td>4005</td>\n",
       "      <td>5.632171</td>\n",
       "      <td>116320</td>\n",
       "      <td>6.2</td>\n",
       "      <td>48.419627</td>\n",
       "      <td>908414.684839</td>\n",
       "    </tr>\n",
       "    <tr>\n",
       "      <th>164</th>\n",
       "      <td>Porter</td>\n",
       "      <td>18127</td>\n",
       "      <td>6.829558</td>\n",
       "      <td>146798</td>\n",
       "      <td>351.1</td>\n",
       "      <td>46.523507</td>\n",
       "      <td>19451.887650</td>\n",
       "    </tr>\n",
       "    <tr>\n",
       "      <th>232</th>\n",
       "      <td>Monroe</td>\n",
       "      <td>26115</td>\n",
       "      <td>5.346132</td>\n",
       "      <td>145945</td>\n",
       "      <td>264.8</td>\n",
       "      <td>36.631145</td>\n",
       "      <td>20189.321752</td>\n",
       "    </tr>\n",
       "    <tr>\n",
       "      <th>87</th>\n",
       "      <td>Citrus</td>\n",
       "      <td>12017</td>\n",
       "      <td>4.077883</td>\n",
       "      <td>118085</td>\n",
       "      <td>202.3</td>\n",
       "      <td>34.533452</td>\n",
       "      <td>20157.600786</td>\n",
       "    </tr>\n",
       "    <tr>\n",
       "      <th>183</th>\n",
       "      <td>Calcasieu</td>\n",
       "      <td>22019</td>\n",
       "      <td>5.848485</td>\n",
       "      <td>183577</td>\n",
       "      <td>171.4</td>\n",
       "      <td>31.858486</td>\n",
       "      <td>34121.851499</td>\n",
       "    </tr>\n",
       "    <tr>\n",
       "      <th>423</th>\n",
       "      <td>Berkeley</td>\n",
       "      <td>45015</td>\n",
       "      <td>4.307215</td>\n",
       "      <td>142651</td>\n",
       "      <td>130.0</td>\n",
       "      <td>30.194073</td>\n",
       "      <td>33132.420623</td>\n",
       "    </tr>\n",
       "    <tr>\n",
       "      <th>237</th>\n",
       "      <td>St. Clair</td>\n",
       "      <td>26147</td>\n",
       "      <td>4.866322</td>\n",
       "      <td>164235</td>\n",
       "      <td>226.7</td>\n",
       "      <td>29.630236</td>\n",
       "      <td>21465.909951</td>\n",
       "    </tr>\n",
       "    <tr>\n",
       "      <th>174</th>\n",
       "      <td>Woodbury</td>\n",
       "      <td>19193</td>\n",
       "      <td>2.986623</td>\n",
       "      <td>103877</td>\n",
       "      <td>119.0</td>\n",
       "      <td>28.751529</td>\n",
       "      <td>25097.669059</td>\n",
       "    </tr>\n",
       "    <tr>\n",
       "      <th>188</th>\n",
       "      <td>Ouachita</td>\n",
       "      <td>22073</td>\n",
       "      <td>4.119479</td>\n",
       "      <td>147250</td>\n",
       "      <td>241.2</td>\n",
       "      <td>27.976086</td>\n",
       "      <td>17079.099175</td>\n",
       "    </tr>\n",
       "  </tbody>\n",
       "</table>\n",
       "</div>"
      ],
      "text/plain": [
       "        County   FIPS     Total     pop    den   norm_pop       norm_den\n",
       "294   San Juan  35045  8.453822  113801   20.6  74.286004  410379.686845\n",
       "13    Coconino   4005  5.632171  116320    6.2  48.419627  908414.684839\n",
       "164     Porter  18127  6.829558  146798  351.1  46.523507   19451.887650\n",
       "232     Monroe  26115  5.346132  145945  264.8  36.631145   20189.321752\n",
       "87      Citrus  12017  4.077883  118085  202.3  34.533452   20157.600786\n",
       "183  Calcasieu  22019  5.848485  183577  171.4  31.858486   34121.851499\n",
       "423   Berkeley  45015  4.307215  142651  130.0  30.194073   33132.420623\n",
       "237  St. Clair  26147  4.866322  164235  226.7  29.630236   21465.909951\n",
       "174   Woodbury  19193  2.986623  103877  119.0  28.751529   25097.669059\n",
       "188   Ouachita  22073  4.119479  147250  241.2  27.976086   17079.099175"
      ]
     },
     "execution_count": 29,
     "metadata": {},
     "output_type": "execute_result"
    }
   ],
   "source": [
    "rank_pop.head(n = 10)"
   ]
  },
  {
   "cell_type": "code",
   "execution_count": 30,
   "metadata": {
    "collapsed": false
   },
   "outputs": [
    {
     "name": "stderr",
     "output_type": "stream",
     "text": [
      "/anaconda/lib/python2.7/site-packages/ipykernel/__main__.py:1: FutureWarning: sort(columns=....) is deprecated, use sort_values(by=.....)\n",
      "  if __name__ == '__main__':\n"
     ]
    }
   ],
   "source": [
    "rank_den = merge.sort('norm_den', ascending=False)"
   ]
  },
  {
   "cell_type": "code",
   "execution_count": 31,
   "metadata": {
    "collapsed": false
   },
   "outputs": [
    {
     "data": {
      "text/html": [
       "<div>\n",
       "<table border=\"1\" class=\"dataframe\">\n",
       "  <thead>\n",
       "    <tr style=\"text-align: right;\">\n",
       "      <th></th>\n",
       "      <th>County</th>\n",
       "      <th>FIPS</th>\n",
       "      <th>Total</th>\n",
       "      <th>pop</th>\n",
       "      <th>den</th>\n",
       "      <th>norm_pop</th>\n",
       "      <th>norm_den</th>\n",
       "    </tr>\n",
       "  </thead>\n",
       "  <tbody>\n",
       "    <tr>\n",
       "      <th>13</th>\n",
       "      <td>Coconino</td>\n",
       "      <td>4005</td>\n",
       "      <td>5.632171</td>\n",
       "      <td>116320</td>\n",
       "      <td>6.2</td>\n",
       "      <td>48.419627</td>\n",
       "      <td>908414.684839</td>\n",
       "    </tr>\n",
       "    <tr>\n",
       "      <th>294</th>\n",
       "      <td>San Juan</td>\n",
       "      <td>35045</td>\n",
       "      <td>8.453822</td>\n",
       "      <td>113801</td>\n",
       "      <td>20.6</td>\n",
       "      <td>74.286004</td>\n",
       "      <td>410379.686845</td>\n",
       "    </tr>\n",
       "    <tr>\n",
       "      <th>15</th>\n",
       "      <td>Mohave</td>\n",
       "      <td>4015</td>\n",
       "      <td>1.012747</td>\n",
       "      <td>155032</td>\n",
       "      <td>11.6</td>\n",
       "      <td>6.532506</td>\n",
       "      <td>87305.813017</td>\n",
       "    </tr>\n",
       "    <tr>\n",
       "      <th>43</th>\n",
       "      <td>San Bernardino</td>\n",
       "      <td>6071</td>\n",
       "      <td>5.584881</td>\n",
       "      <td>1709434</td>\n",
       "      <td>85.2</td>\n",
       "      <td>3.267093</td>\n",
       "      <td>65550.241984</td>\n",
       "    </tr>\n",
       "    <tr>\n",
       "      <th>12</th>\n",
       "      <td>Cochise</td>\n",
       "      <td>4003</td>\n",
       "      <td>1.209644</td>\n",
       "      <td>117755</td>\n",
       "      <td>19.1</td>\n",
       "      <td>10.272551</td>\n",
       "      <td>63332.156754</td>\n",
       "    </tr>\n",
       "    <tr>\n",
       "      <th>31</th>\n",
       "      <td>Kern</td>\n",
       "      <td>6029</td>\n",
       "      <td>4.937148</td>\n",
       "      <td>661645</td>\n",
       "      <td>81.3</td>\n",
       "      <td>7.461929</td>\n",
       "      <td>60727.526433</td>\n",
       "    </tr>\n",
       "    <tr>\n",
       "      <th>245</th>\n",
       "      <td>St. Louis</td>\n",
       "      <td>27137</td>\n",
       "      <td>1.931689</td>\n",
       "      <td>200528</td>\n",
       "      <td>32.2</td>\n",
       "      <td>9.633012</td>\n",
       "      <td>59990.328789</td>\n",
       "    </tr>\n",
       "    <tr>\n",
       "      <th>37</th>\n",
       "      <td>Monterey</td>\n",
       "      <td>6053</td>\n",
       "      <td>5.424930</td>\n",
       "      <td>401762</td>\n",
       "      <td>120.9</td>\n",
       "      <td>13.502845</td>\n",
       "      <td>44871.214648</td>\n",
       "    </tr>\n",
       "    <tr>\n",
       "      <th>266</th>\n",
       "      <td>Clark</td>\n",
       "      <td>32003</td>\n",
       "      <td>6.828896</td>\n",
       "      <td>1375765</td>\n",
       "      <td>173.9</td>\n",
       "      <td>4.963708</td>\n",
       "      <td>39269.096849</td>\n",
       "    </tr>\n",
       "    <tr>\n",
       "      <th>69</th>\n",
       "      <td>Weld</td>\n",
       "      <td>8123</td>\n",
       "      <td>1.690290</td>\n",
       "      <td>180936</td>\n",
       "      <td>45.3</td>\n",
       "      <td>9.341923</td>\n",
       "      <td>37313.248013</td>\n",
       "    </tr>\n",
       "  </tbody>\n",
       "</table>\n",
       "</div>"
      ],
      "text/plain": [
       "             County   FIPS     Total      pop    den   norm_pop       norm_den\n",
       "13         Coconino   4005  5.632171   116320    6.2  48.419627  908414.684839\n",
       "294        San Juan  35045  8.453822   113801   20.6  74.286004  410379.686845\n",
       "15           Mohave   4015  1.012747   155032   11.6   6.532506   87305.813017\n",
       "43   San Bernardino   6071  5.584881  1709434   85.2   3.267093   65550.241984\n",
       "12          Cochise   4003  1.209644   117755   19.1  10.272551   63332.156754\n",
       "31             Kern   6029  4.937148   661645   81.3   7.461929   60727.526433\n",
       "245       St. Louis  27137  1.931689   200528   32.2   9.633012   59990.328789\n",
       "37         Monterey   6053  5.424930   401762  120.9  13.502845   44871.214648\n",
       "266           Clark  32003  6.828896  1375765  173.9   4.963708   39269.096849\n",
       "69             Weld   8123  1.690290   180936   45.3   9.341923   37313.248013"
      ]
     },
     "execution_count": 31,
     "metadata": {},
     "output_type": "execute_result"
    }
   ],
   "source": [
    "rank_den.head(n = 10)"
   ]
  },
  {
   "cell_type": "code",
   "execution_count": 32,
   "metadata": {
    "collapsed": false
   },
   "outputs": [],
   "source": [
    "large = merge[merge['pop'] >= 2000000]"
   ]
  },
  {
   "cell_type": "code",
   "execution_count": 33,
   "metadata": {
    "collapsed": false
   },
   "outputs": [
    {
     "name": "stderr",
     "output_type": "stream",
     "text": [
      "/anaconda/lib/python2.7/site-packages/ipykernel/__main__.py:1: FutureWarning: sort(columns=....) is deprecated, use sort_values(by=.....)\n",
      "  if __name__ == '__main__':\n"
     ]
    },
    {
     "data": {
      "text/html": [
       "<div>\n",
       "<table border=\"1\" class=\"dataframe\">\n",
       "  <thead>\n",
       "    <tr style=\"text-align: right;\">\n",
       "      <th></th>\n",
       "      <th>County</th>\n",
       "      <th>FIPS</th>\n",
       "      <th>Total</th>\n",
       "      <th>pop</th>\n",
       "      <th>den</th>\n",
       "      <th>norm_pop</th>\n",
       "      <th>norm_den</th>\n",
       "    </tr>\n",
       "  </thead>\n",
       "  <tbody>\n",
       "    <tr>\n",
       "      <th>461</th>\n",
       "      <td>Harris</td>\n",
       "      <td>48201</td>\n",
       "      <td>19.419976</td>\n",
       "      <td>3400578</td>\n",
       "      <td>1967.0</td>\n",
       "      <td>5.710787</td>\n",
       "      <td>9872.890625</td>\n",
       "    </tr>\n",
       "    <tr>\n",
       "      <th>239</th>\n",
       "      <td>Wayne</td>\n",
       "      <td>26163</td>\n",
       "      <td>8.888368</td>\n",
       "      <td>2061162</td>\n",
       "      <td>3356.1</td>\n",
       "      <td>4.312309</td>\n",
       "      <td>2648.421592</td>\n",
       "    </tr>\n",
       "    <tr>\n",
       "      <th>136</th>\n",
       "      <td>Cook</td>\n",
       "      <td>17031</td>\n",
       "      <td>16.972333</td>\n",
       "      <td>5376741</td>\n",
       "      <td>5685.6</td>\n",
       "      <td>3.156621</td>\n",
       "      <td>2985.143728</td>\n",
       "    </tr>\n",
       "    <tr>\n",
       "      <th>452</th>\n",
       "      <td>Dallas</td>\n",
       "      <td>48113</td>\n",
       "      <td>6.366917</td>\n",
       "      <td>2218899</td>\n",
       "      <td>2522.6</td>\n",
       "      <td>2.869404</td>\n",
       "      <td>2523.950442</td>\n",
       "    </tr>\n",
       "    <tr>\n",
       "      <th>44</th>\n",
       "      <td>San Diego</td>\n",
       "      <td>6073</td>\n",
       "      <td>7.446142</td>\n",
       "      <td>2813833</td>\n",
       "      <td>670.0</td>\n",
       "      <td>2.646263</td>\n",
       "      <td>11113.644304</td>\n",
       "    </tr>\n",
       "    <tr>\n",
       "      <th>14</th>\n",
       "      <td>Maricopa</td>\n",
       "      <td>4013</td>\n",
       "      <td>7.481091</td>\n",
       "      <td>3072149</td>\n",
       "      <td>333.8</td>\n",
       "      <td>2.435133</td>\n",
       "      <td>22411.896651</td>\n",
       "    </tr>\n",
       "    <tr>\n",
       "      <th>101</th>\n",
       "      <td>Miami-Dade</td>\n",
       "      <td>12086</td>\n",
       "      <td>5.129586</td>\n",
       "      <td>2253362</td>\n",
       "      <td>1157.9</td>\n",
       "      <td>2.276415</td>\n",
       "      <td>4430.077160</td>\n",
       "    </tr>\n",
       "    <tr>\n",
       "      <th>313</th>\n",
       "      <td>Queens</td>\n",
       "      <td>36081</td>\n",
       "      <td>5.011067</td>\n",
       "      <td>2229379</td>\n",
       "      <td>20409.0</td>\n",
       "      <td>2.247741</td>\n",
       "      <td>245.532197</td>\n",
       "    </tr>\n",
       "    <tr>\n",
       "      <th>33</th>\n",
       "      <td>Los Angeles</td>\n",
       "      <td>6037</td>\n",
       "      <td>21.316004</td>\n",
       "      <td>9519338</td>\n",
       "      <td>2344.2</td>\n",
       "      <td>2.239232</td>\n",
       "      <td>9093.082489</td>\n",
       "    </tr>\n",
       "    <tr>\n",
       "      <th>39</th>\n",
       "      <td>Orange</td>\n",
       "      <td>6059</td>\n",
       "      <td>5.329271</td>\n",
       "      <td>2846289</td>\n",
       "      <td>3605.6</td>\n",
       "      <td>1.872358</td>\n",
       "      <td>1478.053879</td>\n",
       "    </tr>\n",
       "  </tbody>\n",
       "</table>\n",
       "</div>"
      ],
      "text/plain": [
       "          County   FIPS      Total      pop      den  norm_pop      norm_den\n",
       "461       Harris  48201  19.419976  3400578   1967.0  5.710787   9872.890625\n",
       "239        Wayne  26163   8.888368  2061162   3356.1  4.312309   2648.421592\n",
       "136         Cook  17031  16.972333  5376741   5685.6  3.156621   2985.143728\n",
       "452       Dallas  48113   6.366917  2218899   2522.6  2.869404   2523.950442\n",
       "44     San Diego   6073   7.446142  2813833    670.0  2.646263  11113.644304\n",
       "14      Maricopa   4013   7.481091  3072149    333.8  2.435133  22411.896651\n",
       "101   Miami-Dade  12086   5.129586  2253362   1157.9  2.276415   4430.077160\n",
       "313       Queens  36081   5.011067  2229379  20409.0  2.247741    245.532197\n",
       "33   Los Angeles   6037  21.316004  9519338   2344.2  2.239232   9093.082489\n",
       "39        Orange   6059   5.329271  2846289   3605.6  1.872358   1478.053879"
      ]
     },
     "execution_count": 33,
     "metadata": {},
     "output_type": "execute_result"
    }
   ],
   "source": [
    "rank_large = large.sort('norm_pop', ascending=False)\n",
    "rank_large.head(n = 10)"
   ]
  },
  {
   "cell_type": "code",
   "execution_count": 34,
   "metadata": {
    "collapsed": false
   },
   "outputs": [],
   "source": [
    "dense = merge[merge['den'] >= 8000]"
   ]
  },
  {
   "cell_type": "code",
   "execution_count": 35,
   "metadata": {
    "collapsed": false
   },
   "outputs": [
    {
     "name": "stderr",
     "output_type": "stream",
     "text": [
      "/anaconda/lib/python2.7/site-packages/ipykernel/__main__.py:1: FutureWarning: sort(columns=....) is deprecated, use sort_values(by=.....)\n",
      "  if __name__ == '__main__':\n"
     ]
    },
    {
     "data": {
      "text/html": [
       "<div>\n",
       "<table border=\"1\" class=\"dataframe\">\n",
       "  <thead>\n",
       "    <tr style=\"text-align: right;\">\n",
       "      <th></th>\n",
       "      <th>County</th>\n",
       "      <th>FIPS</th>\n",
       "      <th>Total</th>\n",
       "      <th>pop</th>\n",
       "      <th>den</th>\n",
       "      <th>norm_pop</th>\n",
       "      <th>norm_den</th>\n",
       "    </tr>\n",
       "  </thead>\n",
       "  <tbody>\n",
       "    <tr>\n",
       "      <th>412</th>\n",
       "      <td>Philadelphia</td>\n",
       "      <td>42101</td>\n",
       "      <td>4.153893</td>\n",
       "      <td>1517550</td>\n",
       "      <td>11233.6</td>\n",
       "      <td>2.737236</td>\n",
       "      <td>369.773998</td>\n",
       "    </tr>\n",
       "    <tr>\n",
       "      <th>313</th>\n",
       "      <td>Queens</td>\n",
       "      <td>36081</td>\n",
       "      <td>5.011067</td>\n",
       "      <td>2229379</td>\n",
       "      <td>20409.0</td>\n",
       "      <td>2.247741</td>\n",
       "      <td>245.532197</td>\n",
       "    </tr>\n",
       "    <tr>\n",
       "      <th>208</th>\n",
       "      <td>Baltimore City</td>\n",
       "      <td>24510</td>\n",
       "      <td>1.377024</td>\n",
       "      <td>651154</td>\n",
       "      <td>8058.4</td>\n",
       "      <td>2.114744</td>\n",
       "      <td>170.880540</td>\n",
       "    </tr>\n",
       "    <tr>\n",
       "      <th>218</th>\n",
       "      <td>Suffolk</td>\n",
       "      <td>25025</td>\n",
       "      <td>1.752133</td>\n",
       "      <td>689807</td>\n",
       "      <td>11788.4</td>\n",
       "      <td>2.540033</td>\n",
       "      <td>148.631935</td>\n",
       "    </tr>\n",
       "    <tr>\n",
       "      <th>280</th>\n",
       "      <td>Hudson</td>\n",
       "      <td>34017</td>\n",
       "      <td>1.779753</td>\n",
       "      <td>608975</td>\n",
       "      <td>13043.6</td>\n",
       "      <td>2.922539</td>\n",
       "      <td>136.446470</td>\n",
       "    </tr>\n",
       "    <tr>\n",
       "      <th>81</th>\n",
       "      <td>District of Columbia</td>\n",
       "      <td>11001</td>\n",
       "      <td>1.260173</td>\n",
       "      <td>572059</td>\n",
       "      <td>9316.4</td>\n",
       "      <td>2.202872</td>\n",
       "      <td>135.263946</td>\n",
       "    </tr>\n",
       "    <tr>\n",
       "      <th>491</th>\n",
       "      <td>Alexandria</td>\n",
       "      <td>51510</td>\n",
       "      <td>0.944493</td>\n",
       "      <td>128283</td>\n",
       "      <td>8452.0</td>\n",
       "      <td>7.362574</td>\n",
       "      <td>111.747881</td>\n",
       "    </tr>\n",
       "    <tr>\n",
       "      <th>45</th>\n",
       "      <td>San Francisco</td>\n",
       "      <td>6075</td>\n",
       "      <td>1.350511</td>\n",
       "      <td>776733</td>\n",
       "      <td>16634.4</td>\n",
       "      <td>1.738707</td>\n",
       "      <td>81.187830</td>\n",
       "    </tr>\n",
       "    <tr>\n",
       "      <th>303</th>\n",
       "      <td>Kings</td>\n",
       "      <td>36047</td>\n",
       "      <td>2.762536</td>\n",
       "      <td>2465326</td>\n",
       "      <td>34916.6</td>\n",
       "      <td>1.120556</td>\n",
       "      <td>79.118116</td>\n",
       "    </tr>\n",
       "    <tr>\n",
       "      <th>306</th>\n",
       "      <td>New York</td>\n",
       "      <td>36061</td>\n",
       "      <td>3.989600</td>\n",
       "      <td>1537195</td>\n",
       "      <td>66940.1</td>\n",
       "      <td>2.595377</td>\n",
       "      <td>59.599558</td>\n",
       "    </tr>\n",
       "  </tbody>\n",
       "</table>\n",
       "</div>"
      ],
      "text/plain": [
       "                   County   FIPS     Total      pop      den  norm_pop  \\\n",
       "412          Philadelphia  42101  4.153893  1517550  11233.6  2.737236   \n",
       "313                Queens  36081  5.011067  2229379  20409.0  2.247741   \n",
       "208        Baltimore City  24510  1.377024   651154   8058.4  2.114744   \n",
       "218               Suffolk  25025  1.752133   689807  11788.4  2.540033   \n",
       "280                Hudson  34017  1.779753   608975  13043.6  2.922539   \n",
       "81   District of Columbia  11001  1.260173   572059   9316.4  2.202872   \n",
       "491            Alexandria  51510  0.944493   128283   8452.0  7.362574   \n",
       "45          San Francisco   6075  1.350511   776733  16634.4  1.738707   \n",
       "303                 Kings  36047  2.762536  2465326  34916.6  1.120556   \n",
       "306              New York  36061  3.989600  1537195  66940.1  2.595377   \n",
       "\n",
       "       norm_den  \n",
       "412  369.773998  \n",
       "313  245.532197  \n",
       "208  170.880540  \n",
       "218  148.631935  \n",
       "280  136.446470  \n",
       "81   135.263946  \n",
       "491  111.747881  \n",
       "45    81.187830  \n",
       "303   79.118116  \n",
       "306   59.599558  "
      ]
     },
     "execution_count": 35,
     "metadata": {},
     "output_type": "execute_result"
    }
   ],
   "source": [
    "rank_dense = dense.sort('norm_den', ascending=False)\n",
    "rank_dense.head(n = 10)"
   ]
  },
  {
   "cell_type": "code",
   "execution_count": 36,
   "metadata": {
    "collapsed": false
   },
   "outputs": [
    {
     "data": {
      "text/plain": [
       "<matplotlib.text.Text at 0x11e5b4e50>"
      ]
     },
     "execution_count": 36,
     "metadata": {},
     "output_type": "execute_result"
    },
    {
     "data": {
      "image/png": "[encoded data removed]",
      "text/plain": [
       "<matplotlib.figure.Figure at 0x11d9bdad0>"
      ]
     },
     "metadata": {},
     "output_type": "display_data"
    }
   ],
   "source": [
    "ax = large.plot(x = 'County', y = 'norm_pop', kind = 'bar', lw=0, figsize = (15,8), color = '#00ffcc', legend = None)\n",
    "ax.set_axis_bgcolor(\"#404040\")\n",
    "pl.ylabel('Normalized Carbon Emissions')\n",
    "pl.xlabel('City')\n",
    "pl.grid(color = '#e6e6e6')\n",
    "pl.title(\"Carbon Emissions Distribution of the Largest Cities\", fontsize = 20)"
   ]
  },
  {
   "cell_type": "code",
   "execution_count": 37,
   "metadata": {
    "collapsed": false
   },
   "outputs": [
    {
     "data": {
      "text/plain": [
       "<matplotlib.text.Text at 0x11e6c8b50>"
      ]
     },
     "execution_count": 37,
     "metadata": {},
     "output_type": "execute_result"
    },
    {
     "data": {
      "image/png": "[encoded data removed]",
      "text/plain": [
       "<matplotlib.figure.Figure at 0x11dda5690>"
      ]
     },
     "metadata": {},
     "output_type": "display_data"
    }
   ],
   "source": [
    "ax = dense.plot(x = 'County', y = 'norm_den', kind = 'bar', lw=0, figsize = (15,8), color = '#00ffcc', legend = None)\n",
    "ax.set_axis_bgcolor(\"#404040\")\n",
    "pl.ylabel('Normalized Carbon Emissions')\n",
    "pl.xlabel('City')\n",
    "pl.grid(color = '#e6e6e6')\n",
    "pl.title(\"Carbon Emissions Distribution of the Most Dense Cities\", fontsize = 20)"
   ]
  }
 ],
 "metadata": {
  "kernelspec": {
   "display_name": "Python [Root]",
   "language": "python",
   "name": "Python [Root]"
  },
  "language_info": {
   "codemirror_mode": {
    "name": "ipython",
    "version": 2
   },
   "file_extension": ".py",
   "mimetype": "text/x-python",
   "name": "python",
   "nbconvert_exporter": "python",
   "pygments_lexer": "ipython2",
   "version": "2.7.12"
  }
 },
 "nbformat": 4,
 "nbformat_minor": 0
}
